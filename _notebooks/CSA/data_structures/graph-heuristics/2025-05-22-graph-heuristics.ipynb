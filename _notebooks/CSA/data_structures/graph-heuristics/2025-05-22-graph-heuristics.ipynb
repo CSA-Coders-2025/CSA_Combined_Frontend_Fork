{
 "cells": [
  {
   "cell_type": "markdown",
   "id": "938411d9",
   "metadata": {},
   "source": [
    "---\n",
    "title: Graph Heuristics - Data Structures\n",
    "comments: true\n",
    "layout: post\n",
    "description: Introduction to pathfinding algorithms\n",
    "author: Srijan, Matthew, Trevor\n",
    "type: ccc\n",
    "courses: { csa: {week: 32} }\n",
    "---"
   ]
  },
  {
   "cell_type": "markdown",
   "id": "deb6a745",
   "metadata": {},
   "source": [
    "# Graph Heuristics – AP Computer Science A Lesson\n",
    "\n",
    "## Objective\n",
    "Learn how graph heuristics are used to solve complex graph problems more efficiently. Understand and implement key algorithms: **Greedy Best-First Search** and **A***.\n",
    "\n",
    "---\n",
    "\n",
    "## What is a Graph Heuristic?\n",
    "\n",
    "A **heuristic** is an **estimation strategy** that guides decision-making in algorithms when exact solutions are too slow.\n",
    "\n",
    "### Why use heuristics?\n",
    "- To **speed up** graph algorithms\n",
    "- Useful when **exact pathfinding (e.g., Dijkstra’s)** is too slow for large graphs\n",
    "- Great for **real-time systems** like games, GPS, or scheduling\n",
    "\n",
    "---\n",
    "\n",
    "## Real World Applications\n",
    "\n",
    "| Domain           | Problem                           | Heuristic Use                             |\n",
    "|------------------|------------------------------------|--------------------------------------------|\n",
    "| 🚗 GPS Maps      | Find fastest driving route         | Estimate distance with A* or Greedy        |\n",
    "| 🧑‍🤝‍🧑 Social Networks | Group similar users                | Estimate similarity via graph clustering   |\n",
    "| 🗓️ Scheduling     | Order tasks with dependencies      | Estimate task priority using heuristics    |\n",
    "\n",
    "---\n",
    "\n",
    "## Review: Dijkstra’s Algorithm (Traditional Search)\n",
    "\n",
    "- Finds **shortest paths** from start node to all others\n",
    "- Uses **actual costs only**\n",
    "- Guarantees **optimal solution**\n",
    "\n",
    "> **No estimation used!**\n",
    "\n",
    "### ⏱️ Time Complexity\n",
    "```text\n",
    "O((V + E) log V) with a priority queue\n"
   ]
  },
  {
   "cell_type": "markdown",
   "id": "b5a4ad74",
   "metadata": {},
   "source": [
    "## 🧩 Java Pseudocode"
   ]
  },
  {
   "cell_type": "code",
   "execution_count": null,
   "id": "6c4ed2a3",
   "metadata": {
    "vscode": {
     "languageId": "java"
    }
   },
   "outputs": [],
   "source": [
    "PriorityQueue<Node> queue = new PriorityQueue<>();\n",
    "dist[start] = 0;\n",
    "queue.add(start);\n",
    "\n",
    "while (!queue.isEmpty()) {\n",
    "    Node current = queue.poll();\n",
    "    for (Edge e : current.edges) {\n",
    "        if (dist[current] + e.weight < dist[e.to]) {\n",
    "            dist[e.to] = dist[current] + e.weight;\n",
    "            queue.add(e.to);\n",
    "        }\n",
    "    }\n",
    "}"
   ]
  },
  {
   "cell_type": "markdown",
   "id": "546b5f3f",
   "metadata": {},
   "source": [
    "## Heuristic-Based Algorithms\n",
    "\n",
    "### What is a Heuristic Function?\n",
    "A function that estimates cost from a node to the goal.\n",
    "Used to guide the search intelligently.\n",
    "\n",
    "### Common Heuristics\n",
    "- Manhattan Distance (for grids):\n",
    "|x1 - x2| + |y1 - y2|\n",
    "- Euclidean Distance:\n",
    "sqrt((x1 - x2)^2 + (y1 - y2)^2)\n",
    "\n",
    "## 1. Greedy Best-First Search\n",
    "\n",
    "### How it works:\n",
    "Chooses the node that looks closest to the goal (lowest h(n)).\n",
    "\n",
    "### Formula:\n",
    "`f(n) = h(n)`\n",
    "- h(n): Estimated cost from node n to goal\n",
    "\n",
    "### Weakness:\n",
    "Can get stuck in dead ends — ignores cost so far.\n",
    "\n",
    "### Java Pseudocode\n"
   ]
  },
  {
   "cell_type": "code",
   "execution_count": null,
   "id": "baa51fa5",
   "metadata": {
    "vscode": {
     "languageId": "java"
    }
   },
   "outputs": [],
   "source": [
    "PriorityQueue<Node> queue = new PriorityQueue<>(Comparator.comparingInt(n -> heuristic(n, goal)));\n",
    "queue.add(start);\n",
    "\n",
    "while (!queue.isEmpty()) {\n",
    "    Node current = queue.poll();\n",
    "    if (current == goal) break;\n",
    "    for (Node neighbor : current.neighbors) {\n",
    "        queue.add(neighbor);\n",
    "    }\n",
    "}\n"
   ]
  },
  {
   "cell_type": "markdown",
   "id": "fc46c8ba",
   "metadata": {},
   "source": [
    "## 2. A* (A Star) Algorithm\n",
    "\n",
    "### How it works:\n",
    "Balances between actual cost and estimated cost to goal.\n",
    "\n",
    "### ✏️ Formula:\n",
    "`f(n) = g(n) + h(n)`\n",
    "- g(n): Cost from start to node n\n",
    "- h(n): Estimated cost from n to goal\n",
    "### Strength:\n",
    "- Finds the shortest path if heuristic is admissible (doesn’t overestimate)\n",
    "### Java Pseudocode"
   ]
  },
  {
   "cell_type": "code",
   "execution_count": null,
   "id": "90529e8b",
   "metadata": {
    "vscode": {
     "languageId": "java"
    }
   },
   "outputs": [],
   "source": [
    "PriorityQueue<Node> queue = new PriorityQueue<>(Comparator.comparingInt(n -> g(n) + heuristic(n, goal)));\n",
    "g[start] = 0;\n",
    "queue.add(start);\n",
    "\n",
    "while (!queue.isEmpty()) {\n",
    "    Node current = queue.poll();\n",
    "    if (current == goal) break;\n",
    "\n",
    "    for (Node neighbor : current.neighbors) {\n",
    "        int tentativeG = g[current] + cost(current, neighbor);\n",
    "        if (tentativeG < g[neighbor]) {\n",
    "            g[neighbor] = tentativeG;\n",
    "            queue.add(neighbor);\n",
    "        }\n",
    "    }\n",
    "}\n"
   ]
  },
  {
   "cell_type": "markdown",
   "id": "3781924c",
   "metadata": {},
   "source": [
    "### Comparison Table\n",
    "| Algorithm         | Uses Actual Cost | Uses Heuristic | Guaranteed Optimal? | Speed       |\n",
    "| ----------------- | ---------------- | -------------- | ------------------- | ----------- |\n",
    "| Dijkstra’s        | ✅                | ❌              | ✅                   | Slower      |\n",
    "| Greedy Best-First | ❌                | ✅              | ❌                   | Fast        |\n",
    "| A\\* Search        | ✅                | ✅              | ✅ (if admissible)   | Fastest mix |\n"
   ]
  }
 ],
 "metadata": {
  "language_info": {
   "name": "python"
  }
 },
 "nbformat": 4,
 "nbformat_minor": 5
}
