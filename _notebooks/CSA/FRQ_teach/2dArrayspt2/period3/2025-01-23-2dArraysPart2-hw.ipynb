{
 "cells": [
  {
   "cell_type": "raw",
   "metadata": {
    "vscode": {
     "languageId": "raw"
    }
   },
   "source": [
    "---\n",
    "layout: post\n",
    "comments: true\n",
    "title: Period 3 2D Arrays Pt 2 - Homework\n",
    "menu: nav/CSA_Units/frqs/per3-2Darrays-pt2.html\n",
    "permalink: csa/frqs/p3/2darrays2/homework\n",
    "---"
   ]
  }
 ],
 "metadata": {
  "language_info": {
   "name": "python"
  }
 },
 "nbformat": 4,
 "nbformat_minor": 2
}
