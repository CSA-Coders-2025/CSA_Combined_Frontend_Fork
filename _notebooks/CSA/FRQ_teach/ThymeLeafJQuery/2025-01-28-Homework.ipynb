{
 "cells": [
  {
   "cell_type": "markdown",
   "metadata": {},
   "source": [
    "---\n",
    "layout: post\n",
    "toc: true\n",
    "title: JQuery/Thymeleaf Lesson\n",
    "description: Homework for JQuery/Thymeleaf lesson\n",
    "categories: [AP CSA]\n",
    "courses: { csa: {week: 18} }\n",
    "type: ccc\n",
    "menu: nav/FRQ_teach/jquery-thymeleafp3.html\n",
    "author: Akhil, Tarun, Kayden\n",
    "permalink: /period3/jquery-thymeleaf-homework\n",
    "---"
   ]
  },
  {
   "cell_type": "markdown",
   "metadata": {},
   "source": [
    "# Question 1: jQuery - Dynamic Content Update\n",
    "\n",
    "Objective:\n",
    "Use jQuery to dynamically update a p element with user input from an input field when a button is clicked."
   ]
  },
  {
   "cell_type": "code",
   "execution_count": null,
   "metadata": {
    "vscode": {
     "languageId": "html"
    }
   },
   "outputs": [],
   "source": [
    "<head>\n",
    "    <title>jQuery Dynamic Update</title>\n",
    "    <script src=\"https://code.jquery.com/jquery-3.6.0.min.js\"></script>\n",
    "</head>\n",
    "<body>\n",
    "\n",
    "    <input type=\"text\" id=\"userInput\" placeholder=\"Enter text here\">\n",
    "    <button id=\"updateButton\">Update Text</button>\n",
    "    <p id=\"displayText\">Original Text</p>\n",
    "\n",
    "    <script>\n",
    "        $(document).ready(function() {\n",
    "            // TODO: Write jQuery code to update #displayText with input field value when button is clicked.\n",
    "        });\n",
    "    </script>\n",
    "\n",
    "</body>\n",
    "</html>"
   ]
  },
  {
   "cell_type": "markdown",
   "metadata": {},
   "source": [
    "# Question 2: Thymeleaf - Displaying a List of Items\n",
    "\n",
    "Objective:\n",
    "Use Thymeleaf to display a list of students stored in a backend Java controller."
   ]
  },
  {
   "cell_type": "code",
   "execution_count": null,
   "metadata": {
    "vscode": {
     "languageId": "html"
    }
   },
   "outputs": [],
   "source": [
    "<!-- Put this code in a Java cell-->\n",
    "import org.springframework.stereotype.Controller;\n",
    "import org.springframework.ui.Model;\n",
    "import org.springframework.web.bind.annotation.GetMapping;\n",
    "import java.util.Arrays;\n",
    "import java.util.List;\n",
    "\n",
    "@Controller\n",
    "public class StudentController {\n",
    "    \n",
    "    @GetMapping(\"/students\")\n",
    "    public String getStudents(Model model) {\n",
    "        List<String> students = Arrays.asList(\"Alice\", \"Bob\", \"Charlie\", \"David\");\n",
    "        model.addAttribute(\"students\", students);\n",
    "        return \"students\";\n",
    "    }\n",
    "}\n",
    "<!----->\n",
    "\n",
    "<!DOCTYPE html>\n",
    "<html xmlns:th=\"http://www.thymeleaf.org\">\n",
    "<head>\n",
    "    <title>Student List</title>\n",
    "</head>\n",
    "<body>\n",
    "    <h2>Student List</h2>\n",
    "    <ul>\n",
    "        <!-- TODO: Use Thymeleaf to iterate through the students and display each one -->\n",
    "    </ul>\n",
    "</body>\n",
    "</html>\n"
   ]
  }
 ],
 "metadata": {
  "language_info": {
   "name": "python"
  },
  "orig_nbformat": 4
 },
 "nbformat": 4,
 "nbformat_minor": 2
}
