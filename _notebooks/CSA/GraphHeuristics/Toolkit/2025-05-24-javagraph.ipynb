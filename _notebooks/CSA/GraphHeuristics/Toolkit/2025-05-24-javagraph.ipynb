{
 "cells": [
  {
   "cell_type": "markdown",
   "id": "96263eff",
   "metadata": {},
   "source": [
    "---\n",
    "layout: post\n",
    "title: Graph Heuristics - Java and Graphs\n",
    "categories: [Java Spring]\n",
    "permalink: /graphs/intro\n",
    "menu: /nav/graph.html\n",
    "---"
   ]
  }
 ],
 "metadata": {
  "language_info": {
   "name": "python"
  }
 },
 "nbformat": 4,
 "nbformat_minor": 5
}
